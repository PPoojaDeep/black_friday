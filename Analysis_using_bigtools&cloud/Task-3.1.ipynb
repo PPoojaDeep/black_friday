{
 "cells": [
  {
   "cell_type": "code",
   "execution_count": 1,
   "metadata": {},
   "outputs": [],
   "source": [
    "import findspark\n",
    "findspark.init('/usr/local/spark')\n",
    "import pyspark"
   ]
  },
  {
   "cell_type": "code",
   "execution_count": 2,
   "metadata": {},
   "outputs": [],
   "source": [
    "from pyspark.sql import SparkSession\n",
    "spark= SparkSession.builder.appName(\"capstone checkpoint\").getOrCreate()"
   ]
  },
  {
   "cell_type": "code",
   "execution_count": 3,
   "metadata": {},
   "outputs": [],
   "source": [
    "df = spark.read.csv(\"user_demographics.csv\",inferSchema=True,header=True)"
   ]
  },
  {
   "cell_type": "code",
   "execution_count": 4,
   "metadata": {},
   "outputs": [],
   "source": [
    "df1 = spark.read.csv(\"User_product_purchase_details_p2.csv\",inferSchema=True,header=True)"
   ]
  },
  {
   "cell_type": "code",
   "execution_count": 5,
   "metadata": {
    "scrolled": true
   },
   "outputs": [
    {
     "name": "stdout",
     "output_type": "stream",
     "text": [
      "+-------+------+-----+----------+\n",
      "|User_ID|Gender|  Age|Occupation|\n",
      "+-------+------+-----+----------+\n",
      "|1000001|     F| 0-17|        10|\n",
      "|1000002|     M|  55+|        16|\n",
      "|1000003|     M|26-35|        15|\n",
      "|1000004|     M|46-50|         7|\n",
      "|1000005|     M|26-35|        20|\n",
      "|1000006|     F|51-55|         9|\n",
      "|1000007|     M|36-45|         1|\n",
      "|1000008|     M|26-35|        12|\n",
      "|1000009|     M|26-35|        17|\n",
      "|1000010|     F|36-45|         1|\n",
      "+-------+------+-----+----------+\n",
      "only showing top 10 rows\n",
      "\n"
     ]
    }
   ],
   "source": [
    "df.show(10)"
   ]
  },
  {
   "cell_type": "code",
   "execution_count": 6,
   "metadata": {},
   "outputs": [
    {
     "name": "stdout",
     "output_type": "stream",
     "text": [
      "+-------+----------+-------------+--------------------------+--------------+------------------+------------------+------------------+--------+\n",
      "|User_ID|Product_ID|City_Category|Stay_In_Current_City_Years|Marital_Status|Product_Category_1|Product_Category_2|Product_Category_3|Purchase|\n",
      "+-------+----------+-------------+--------------------------+--------------+------------------+------------------+------------------+--------+\n",
      "|1000001| P00069042|            A|                         2|             0|                 3|              null|              null|    8370|\n",
      "|1000001| P00248942|            A|                         2|             0|                 1|                 6|                14|   15200|\n",
      "|1000001| P00087842|            A|                         2|             0|                12|              null|              null|    1422|\n",
      "|1000001| P00085442|            A|                         2|             0|                12|                14|              null|    1057|\n",
      "|1000002| P00285442|            C|                        4+|             0|                 8|              null|              null|    7969|\n",
      "|1000003| P00193542|            A|                         3|             0|                 1|                 2|              null|   15227|\n",
      "|1000004| P00184942|            B|                         2|             1|                 1|                 8|                17|   19215|\n",
      "|1000004| P00346142|            B|                         2|             1|                 1|                15|              null|   15854|\n",
      "|1000004|  P0097242|            B|                         2|             1|                 1|                16|              null|   15686|\n",
      "|1000005| P00274942|            A|                         1|             1|                 8|              null|              null|    7871|\n",
      "+-------+----------+-------------+--------------------------+--------------+------------------+------------------+------------------+--------+\n",
      "only showing top 10 rows\n",
      "\n"
     ]
    }
   ],
   "source": [
    "df1.show(10)"
   ]
  },
  {
   "cell_type": "code",
   "execution_count": 7,
   "metadata": {},
   "outputs": [],
   "source": [
    "output = df.join(df1,['User_ID'],how='inner')"
   ]
  },
  {
   "cell_type": "code",
   "execution_count": 8,
   "metadata": {
    "scrolled": true
   },
   "outputs": [
    {
     "name": "stdout",
     "output_type": "stream",
     "text": [
      "+-------+------+----+----------+----------+-------------+--------------------------+--------------+------------------+------------------+------------------+--------+\n",
      "|User_ID|Gender| Age|Occupation|Product_ID|City_Category|Stay_In_Current_City_Years|Marital_Status|Product_Category_1|Product_Category_2|Product_Category_3|Purchase|\n",
      "+-------+------+----+----------+----------+-------------+--------------------------+--------------+------------------+------------------+------------------+--------+\n",
      "|1000001|     F|0-17|        10| P00069042|            A|                         2|             0|                 3|              null|              null|    8370|\n",
      "|1000001|     F|0-17|        10| P00248942|            A|                         2|             0|                 1|                 6|                14|   15200|\n",
      "|1000001|     F|0-17|        10| P00087842|            A|                         2|             0|                12|              null|              null|    1422|\n",
      "|1000001|     F|0-17|        10| P00085442|            A|                         2|             0|                12|                14|              null|    1057|\n",
      "|1000002|     M| 55+|        16| P00285442|            C|                        4+|             0|                 8|              null|              null|    7969|\n",
      "+-------+------+----+----------+----------+-------------+--------------------------+--------------+------------------+------------------+------------------+--------+\n",
      "only showing top 5 rows\n",
      "\n"
     ]
    }
   ],
   "source": [
    "output.show(5)"
   ]
  },
  {
   "cell_type": "code",
   "execution_count": 9,
   "metadata": {},
   "outputs": [
    {
     "name": "stdout",
     "output_type": "stream",
     "text": [
      "+-------+------+-----+----------+----------+-------------+--------------------------+--------------+------------------+------------------+--------+\n",
      "|User_ID|Gender|  Age|Occupation|Product_ID|City_Category|Stay_In_Current_City_Years|Marital_Status|Product_Category_1|Product_Category_2|Purchase|\n",
      "+-------+------+-----+----------+----------+-------------+--------------------------+--------------+------------------+------------------+--------+\n",
      "|1000001|     F| 0-17|        10| P00069042|            A|                         2|             0|                 3|              null|    8370|\n",
      "|1000001|     F| 0-17|        10| P00248942|            A|                         2|             0|                 1|                 6|   15200|\n",
      "|1000001|     F| 0-17|        10| P00087842|            A|                         2|             0|                12|              null|    1422|\n",
      "|1000001|     F| 0-17|        10| P00085442|            A|                         2|             0|                12|                14|    1057|\n",
      "|1000002|     M|  55+|        16| P00285442|            C|                        4+|             0|                 8|              null|    7969|\n",
      "|1000003|     M|26-35|        15| P00193542|            A|                         3|             0|                 1|                 2|   15227|\n",
      "|1000004|     M|46-50|         7| P00184942|            B|                         2|             1|                 1|                 8|   19215|\n",
      "|1000004|     M|46-50|         7| P00346142|            B|                         2|             1|                 1|                15|   15854|\n",
      "|1000004|     M|46-50|         7|  P0097242|            B|                         2|             1|                 1|                16|   15686|\n",
      "|1000005|     M|26-35|        20| P00274942|            A|                         1|             1|                 8|              null|    7871|\n",
      "|1000005|     M|26-35|        20| P00251242|            A|                         1|             1|                 5|                11|    5254|\n",
      "|1000005|     M|26-35|        20| P00014542|            A|                         1|             1|                 8|              null|    3957|\n",
      "|1000005|     M|26-35|        20| P00031342|            A|                         1|             1|                 8|              null|    6073|\n",
      "|1000005|     M|26-35|        20| P00145042|            A|                         1|             1|                 1|                 2|   15665|\n",
      "|1000006|     F|51-55|         9| P00231342|            A|                         1|             0|                 5|                 8|    5378|\n",
      "|1000006|     F|51-55|         9| P00190242|            A|                         1|             0|                 4|                 5|    2079|\n",
      "|1000006|     F|51-55|         9|  P0096642|            A|                         1|             0|                 2|                 3|   13055|\n",
      "|1000006|     F|51-55|         9| P00058442|            A|                         1|             0|                 5|                14|    8851|\n",
      "|1000007|     M|36-45|         1| P00036842|            B|                         1|             1|                 1|                14|   11788|\n",
      "|1000008|     M|26-35|        12| P00249542|            C|                        4+|             1|                 1|                 5|   19614|\n",
      "+-------+------+-----+----------+----------+-------------+--------------------------+--------------+------------------+------------------+--------+\n",
      "only showing top 20 rows\n",
      "\n"
     ]
    }
   ],
   "source": [
    "output.drop(output.Product_Category_3).show()"
   ]
  },
  {
   "cell_type": "code",
   "execution_count": 10,
   "metadata": {},
   "outputs": [],
   "source": [
    "output1 = output.drop(output.Product_Category_3).fillna(value=0,subset=[\"Product_Category_2\"])"
   ]
  },
  {
   "cell_type": "code",
   "execution_count": 11,
   "metadata": {
    "scrolled": true
   },
   "outputs": [
    {
     "name": "stdout",
     "output_type": "stream",
     "text": [
      "++\n",
      "||\n",
      "++\n",
      "++\n",
      "\n"
     ]
    }
   ],
   "source": [
    "spark.sql(\"create database blackfriday\").show()"
   ]
  },
  {
   "cell_type": "code",
   "execution_count": 12,
   "metadata": {},
   "outputs": [
    {
     "name": "stdout",
     "output_type": "stream",
     "text": [
      "+------------+\n",
      "|databaseName|\n",
      "+------------+\n",
      "| blackfriday|\n",
      "|     default|\n",
      "+------------+\n",
      "\n"
     ]
    }
   ],
   "source": [
    "spark.sql(\"show databases\").show()"
   ]
  },
  {
   "cell_type": "code",
   "execution_count": 13,
   "metadata": {},
   "outputs": [
    {
     "name": "stdout",
     "output_type": "stream",
     "text": [
      "++\n",
      "||\n",
      "++\n",
      "++\n",
      "\n"
     ]
    }
   ],
   "source": [
    "spark.sql(\"use blackfriday\").show()"
   ]
  },
  {
   "cell_type": "code",
   "execution_count": 14,
   "metadata": {},
   "outputs": [],
   "source": [
    "output1.write.saveAsTable('black_friday1')"
   ]
  },
  {
   "cell_type": "code",
   "execution_count": 15,
   "metadata": {},
   "outputs": [
    {
     "name": "stdout",
     "output_type": "stream",
     "text": [
      "+-------+------------------+------+------+------------------+----------+-------------+--------------------------+-------------------+------------------+------------------+-----------------+\n",
      "|summary|           User_ID|Gender|   Age|        Occupation|Product_ID|City_Category|Stay_In_Current_City_Years|     Marital_Status|Product_Category_1|Product_Category_2|         Purchase|\n",
      "+-------+------------------+------+------+------------------+----------+-------------+--------------------------+-------------------+------------------+------------------+-----------------+\n",
      "|  count|            550068|550068|550068|            550068|    550068|       550068|                    550068|             550068|            550068|            550068|           550068|\n",
      "|   mean|1003028.8424013031|  null|  null| 8.076706879876669|      null|         null|         1.468494139793958|0.40965298835780306| 5.404270017525106| 6.735436346051761|9263.968712959126|\n",
      "| stddev| 1727.591585530871|  null|  null|6.5226604873418115|      null|         null|         0.989086680757309| 0.4917701263173259| 3.936211369201324| 6.215491528010988|5023.065393820593|\n",
      "|    min|           1000001|     F|  0-17|                 0| P00000142|            A|                         0|                  0|                 1|                 0|               12|\n",
      "|    max|           1006040|     M|   55+|                20|  P0099942|            C|                        4+|                  1|                20|                18|            23961|\n",
      "+-------+------------------+------+------+------------------+----------+-------------+--------------------------+-------------------+------------------+------------------+-----------------+\n",
      "\n"
     ]
    }
   ],
   "source": [
    "output1.describe().show()"
   ]
  },
  {
   "cell_type": "code",
   "execution_count": 16,
   "metadata": {
    "scrolled": true
   },
   "outputs": [
    {
     "name": "stdout",
     "output_type": "stream",
     "text": [
      "root\n",
      " |-- User_ID: integer (nullable = true)\n",
      " |-- Gender: string (nullable = true)\n",
      " |-- Age: string (nullable = true)\n",
      " |-- Occupation: integer (nullable = true)\n",
      " |-- Product_ID: string (nullable = true)\n",
      " |-- City_Category: string (nullable = true)\n",
      " |-- Stay_In_Current_City_Years: string (nullable = true)\n",
      " |-- Marital_Status: integer (nullable = true)\n",
      " |-- Product_Category_1: integer (nullable = true)\n",
      " |-- Product_Category_2: integer (nullable = true)\n",
      " |-- Purchase: integer (nullable = true)\n",
      "\n"
     ]
    }
   ],
   "source": [
    "output1.printSchema()"
   ]
  },
  {
   "cell_type": "code",
   "execution_count": 17,
   "metadata": {
    "scrolled": false
   },
   "outputs": [
    {
     "name": "stdout",
     "output_type": "stream",
     "text": [
      "+-----------+-------------+-----------+\n",
      "|   database|    tableName|isTemporary|\n",
      "+-----------+-------------+-----------+\n",
      "|blackfriday|black_friday1|      false|\n",
      "+-----------+-------------+-----------+\n",
      "\n"
     ]
    }
   ],
   "source": [
    "spark.sql(\"show tables\").show()"
   ]
  },
  {
   "cell_type": "code",
   "execution_count": 18,
   "metadata": {},
   "outputs": [
    {
     "name": "stdout",
     "output_type": "stream",
     "text": [
      "+-------+------+-----+----------+----------+-------------+--------------------------+--------------+------------------+------------------+--------+\n",
      "|User_ID|Gender|  Age|Occupation|Product_ID|City_Category|Stay_In_Current_City_Years|Marital_Status|Product_Category_1|Product_Category_2|Purchase|\n",
      "+-------+------+-----+----------+----------+-------------+--------------------------+--------------+------------------+------------------+--------+\n",
      "|1000001|     F| 0-17|        10| P00069042|            A|                         2|             0|                 3|                 0|    8370|\n",
      "|1000001|     F| 0-17|        10| P00248942|            A|                         2|             0|                 1|                 6|   15200|\n",
      "|1000001|     F| 0-17|        10| P00087842|            A|                         2|             0|                12|                 0|    1422|\n",
      "|1000001|     F| 0-17|        10| P00085442|            A|                         2|             0|                12|                14|    1057|\n",
      "|1000002|     M|  55+|        16| P00285442|            C|                        4+|             0|                 8|                 0|    7969|\n",
      "|1000003|     M|26-35|        15| P00193542|            A|                         3|             0|                 1|                 2|   15227|\n",
      "|1000004|     M|46-50|         7| P00184942|            B|                         2|             1|                 1|                 8|   19215|\n",
      "|1000004|     M|46-50|         7| P00346142|            B|                         2|             1|                 1|                15|   15854|\n",
      "|1000004|     M|46-50|         7|  P0097242|            B|                         2|             1|                 1|                16|   15686|\n",
      "|1000005|     M|26-35|        20| P00274942|            A|                         1|             1|                 8|                 0|    7871|\n",
      "+-------+------+-----+----------+----------+-------------+--------------------------+--------------+------------------+------------------+--------+\n",
      "\n"
     ]
    }
   ],
   "source": [
    "spark.sql(\"select * from black_friday1 limit 10\").show()"
   ]
  },
  {
   "cell_type": "code",
   "execution_count": 19,
   "metadata": {},
   "outputs": [
    {
     "name": "stdout",
     "output_type": "stream",
     "text": [
      "+-------+------+-----+----------+----------+-------------+--------------------------+--------------+------------------+------------------+--------+\n",
      "|User_ID|Gender|  Age|Occupation|Product_ID|City_Category|Stay_In_Current_City_Years|Marital_Status|Product_Category_1|Product_Category_2|Purchase|\n",
      "+-------+------+-----+----------+----------+-------------+--------------------------+--------------+------------------+------------------+--------+\n",
      "|1000001|     F| 0-17|        10| P00069042|            A|                         2|             0|                 3|                 0|    8370|\n",
      "|1000001|     F| 0-17|        10| P00248942|            A|                         2|             0|                 1|                 6|   15200|\n",
      "|1000002|     M|  55+|        16| P00285442|            C|                        4+|             0|                 8|                 0|    7969|\n",
      "|1000003|     M|26-35|        15| P00193542|            A|                         3|             0|                 1|                 2|   15227|\n",
      "|1000004|     M|46-50|         7| P00184942|            B|                         2|             1|                 1|                 8|   19215|\n",
      "|1000004|     M|46-50|         7| P00346142|            B|                         2|             1|                 1|                15|   15854|\n",
      "|1000004|     M|46-50|         7|  P0097242|            B|                         2|             1|                 1|                16|   15686|\n",
      "|1000005|     M|26-35|        20| P00274942|            A|                         1|             1|                 8|                 0|    7871|\n",
      "|1000005|     M|26-35|        20| P00251242|            A|                         1|             1|                 5|                11|    5254|\n",
      "|1000005|     M|26-35|        20| P00031342|            A|                         1|             1|                 8|                 0|    6073|\n",
      "|1000005|     M|26-35|        20| P00145042|            A|                         1|             1|                 1|                 2|   15665|\n",
      "|1000006|     F|51-55|         9| P00231342|            A|                         1|             0|                 5|                 8|    5378|\n",
      "|1000006|     F|51-55|         9|  P0096642|            A|                         1|             0|                 2|                 3|   13055|\n",
      "|1000006|     F|51-55|         9| P00058442|            A|                         1|             0|                 5|                14|    8851|\n",
      "|1000007|     M|36-45|         1| P00036842|            B|                         1|             1|                 1|                14|   11788|\n",
      "|1000008|     M|26-35|        12| P00249542|            C|                        4+|             1|                 1|                 5|   19614|\n",
      "|1000008|     M|26-35|        12| P00220442|            C|                        4+|             1|                 5|                14|    8584|\n",
      "|1000008|     M|26-35|        12| P00156442|            C|                        4+|             1|                 8|                 0|    9872|\n",
      "|1000008|     M|26-35|        12| P00213742|            C|                        4+|             1|                 8|                 0|    9743|\n",
      "|1000008|     M|26-35|        12| P00214442|            C|                        4+|             1|                 8|                 0|    5982|\n",
      "+-------+------+-----+----------+----------+-------------+--------------------------+--------------+------------------+------------------+--------+\n",
      "only showing top 20 rows\n",
      "\n"
     ]
    }
   ],
   "source": [
    "output1[output1.Purchase > 5000].show()"
   ]
  },
  {
   "cell_type": "code",
   "execution_count": 20,
   "metadata": {},
   "outputs": [
    {
     "name": "stdout",
     "output_type": "stream",
     "text": [
      "+------+------+\n",
      "|Gender| count|\n",
      "+------+------+\n",
      "|     F|135809|\n",
      "|     M|414259|\n",
      "+------+------+\n",
      "\n"
     ]
    }
   ],
   "source": [
    "output1.groupby(\"Gender\").count().show()"
   ]
  },
  {
   "cell_type": "code",
   "execution_count": 21,
   "metadata": {},
   "outputs": [
    {
     "name": "stdout",
     "output_type": "stream",
     "text": [
      "+-------------+------+\n",
      "|City_Category| count|\n",
      "+-------------+------+\n",
      "|            B|231173|\n",
      "|            C|171175|\n",
      "|            A|147720|\n",
      "+-------------+------+\n",
      "\n"
     ]
    }
   ],
   "source": [
    "output1.groupby(\"City_Category\").count().show()"
   ]
  },
  {
   "cell_type": "code",
   "execution_count": 22,
   "metadata": {},
   "outputs": [
    {
     "data": {
      "text/plain": [
       "112016"
      ]
     },
     "execution_count": 22,
     "metadata": {},
     "output_type": "execute_result"
    }
   ],
   "source": [
    "spark.sql(\"select * from black_friday1 where Gender='M' and City_Category='A'\").count()"
   ]
  },
  {
   "cell_type": "code",
   "execution_count": 23,
   "metadata": {
    "scrolled": false
   },
   "outputs": [
    {
     "name": "stdout",
     "output_type": "stream",
     "text": [
      "+-------+------+-----+----------+----------+-------------+--------------------------+--------------+------------------+------------------+--------+\n",
      "|User_ID|Gender|  Age|Occupation|Product_ID|City_Category|Stay_In_Current_City_Years|Marital_Status|Product_Category_1|Product_Category_2|Purchase|\n",
      "+-------+------+-----+----------+----------+-------------+--------------------------+--------------+------------------+------------------+--------+\n",
      "|1000003|     M|26-35|        15| P00193542|            A|                         3|             0|                 1|                 2|   15227|\n",
      "|1000005|     M|26-35|        20| P00274942|            A|                         1|             1|                 8|                 0|    7871|\n",
      "|1000005|     M|26-35|        20| P00251242|            A|                         1|             1|                 5|                11|    5254|\n",
      "|1000005|     M|26-35|        20| P00014542|            A|                         1|             1|                 8|                 0|    3957|\n",
      "|1000005|     M|26-35|        20| P00031342|            A|                         1|             1|                 8|                 0|    6073|\n",
      "|1000005|     M|26-35|        20| P00145042|            A|                         1|             1|                 1|                 2|   15665|\n",
      "|1000015|     M|26-35|         7| P00334242|            A|                         1|             0|                 1|                 8|   19653|\n",
      "|1000015|     M|26-35|         7| P00247542|            A|                         1|             0|                 8|                16|    5958|\n",
      "|1000015|     M|26-35|         7| P00338442|            A|                         1|             0|                 1|                16|   11415|\n",
      "|1000015|     M|26-35|         7| P00275142|            A|                         1|             0|                 5|                 8|    5380|\n",
      "|1000015|     M|26-35|         7| P00333042|            A|                         1|             0|                 5|                 8|    3594|\n",
      "|1000015|     M|26-35|         7| P00166242|            A|                         1|             0|                 8|                 0|    4209|\n",
      "|1000015|     M|26-35|         7| P00161942|            A|                         1|             0|                 5|                 8|    5407|\n",
      "|1000015|     M|26-35|         7| P00348242|            A|                         1|             0|                 8|                 0|    7803|\n",
      "|1000015|     M|26-35|         7| P00042142|            A|                         1|             0|                 1|                 2|   11458|\n",
      "|1000019|     M| 0-17|        10| P00112542|            A|                         3|             0|                 1|                11|    7746|\n",
      "|1000019|     M| 0-17|        10| P00339542|            A|                         3|             0|                 1|                 0|   19525|\n",
      "|1000019|     M| 0-17|        10| P00127842|            A|                         3|             0|                 1|                 2|   11959|\n",
      "|1000019|     M| 0-17|        10| P00125942|            A|                         3|             0|                 1|                 2|   19172|\n",
      "|1000019|     M| 0-17|        10| P00251342|            A|                         3|             0|                 5|                11|    8773|\n",
      "+-------+------+-----+----------+----------+-------------+--------------------------+--------------+------------------+------------------+--------+\n",
      "only showing top 20 rows\n",
      "\n"
     ]
    }
   ],
   "source": [
    "spark.sql(\"select * from black_friday1 where Gender='M' and City_Category='A'\").show()"
   ]
  },
  {
   "cell_type": "code",
   "execution_count": 24,
   "metadata": {
    "scrolled": false
   },
   "outputs": [
    {
     "name": "stdout",
     "output_type": "stream",
     "text": [
      "+-------+------+-----+----------+----------+-------------+--------------------------+--------------+------------------+------------------+--------+\n",
      "|User_ID|Gender|  Age|Occupation|Product_ID|City_Category|Stay_In_Current_City_Years|Marital_Status|Product_Category_1|Product_Category_2|Purchase|\n",
      "+-------+------+-----+----------+----------+-------------+--------------------------+--------------+------------------+------------------+--------+\n",
      "|1000001|     F| 0-17|        10| P00069042|            A|                         2|             0|                 3|                 0|    8370|\n",
      "|1000001|     F| 0-17|        10| P00248942|            A|                         2|             0|                 1|                 6|   15200|\n",
      "|1000001|     F| 0-17|        10| P00087842|            A|                         2|             0|                12|                 0|    1422|\n",
      "|1000001|     F| 0-17|        10| P00085442|            A|                         2|             0|                12|                14|    1057|\n",
      "|1000002|     M|  55+|        16| P00285442|            C|                        4+|             0|                 8|                 0|    7969|\n",
      "|1000003|     M|26-35|        15| P00193542|            A|                         3|             0|                 1|                 2|   15227|\n",
      "|1000004|     M|46-50|         7| P00184942|            B|                         2|             1|                 1|                 8|   19215|\n",
      "|1000004|     M|46-50|         7| P00346142|            B|                         2|             1|                 1|                15|   15854|\n",
      "|1000004|     M|46-50|         7|  P0097242|            B|                         2|             1|                 1|                16|   15686|\n",
      "|1000005|     M|26-35|        20| P00274942|            A|                         1|             1|                 8|                 0|    7871|\n",
      "+-------+------+-----+----------+----------+-------------+--------------------------+--------------+------------------+------------------+--------+\n",
      "only showing top 10 rows\n",
      "\n"
     ]
    }
   ],
   "source": [
    "output1.show(10)"
   ]
  },
  {
   "cell_type": "code",
   "execution_count": 25,
   "metadata": {},
   "outputs": [],
   "source": [
    "output = output1.drop('User_ID')"
   ]
  },
  {
   "cell_type": "code",
   "execution_count": 26,
   "metadata": {},
   "outputs": [],
   "source": [
    "output = output.drop('Product_ID')"
   ]
  },
  {
   "cell_type": "code",
   "execution_count": 27,
   "metadata": {
    "scrolled": true
   },
   "outputs": [
    {
     "name": "stdout",
     "output_type": "stream",
     "text": [
      "+------+----+----------+-------------+--------------------------+--------------+------------------+------------------+--------+\n",
      "|Gender| Age|Occupation|City_Category|Stay_In_Current_City_Years|Marital_Status|Product_Category_1|Product_Category_2|Purchase|\n",
      "+------+----+----------+-------------+--------------------------+--------------+------------------+------------------+--------+\n",
      "|     F|0-17|        10|            A|                         2|             0|                 3|                 0|    8370|\n",
      "|     F|0-17|        10|            A|                         2|             0|                 1|                 6|   15200|\n",
      "|     F|0-17|        10|            A|                         2|             0|                12|                 0|    1422|\n",
      "|     F|0-17|        10|            A|                         2|             0|                12|                14|    1057|\n",
      "|     M| 55+|        16|            C|                        4+|             0|                 8|                 0|    7969|\n",
      "+------+----+----------+-------------+--------------------------+--------------+------------------+------------------+--------+\n",
      "only showing top 5 rows\n",
      "\n"
     ]
    }
   ],
   "source": [
    "output.show(5)"
   ]
  },
  {
   "cell_type": "code",
   "execution_count": 28,
   "metadata": {},
   "outputs": [],
   "source": [
    "from pyspark.ml.feature import StringIndexer\n",
    "city_indexer = StringIndexer(inputCol=\"City_Category\", outputCol=\"CityCategory\")\n",
    "output = city_indexer.fit(output).transform(output)"
   ]
  },
  {
   "cell_type": "code",
   "execution_count": 29,
   "metadata": {},
   "outputs": [
    {
     "name": "stdout",
     "output_type": "stream",
     "text": [
      "+------+----+----------+-------------+--------------------------+--------------+------------------+------------------+--------+------------+\n",
      "|Gender| Age|Occupation|City_Category|Stay_In_Current_City_Years|Marital_Status|Product_Category_1|Product_Category_2|Purchase|CityCategory|\n",
      "+------+----+----------+-------------+--------------------------+--------------+------------------+------------------+--------+------------+\n",
      "|     F|0-17|        10|            A|                         2|             0|                 3|                 0|    8370|         2.0|\n",
      "|     F|0-17|        10|            A|                         2|             0|                 1|                 6|   15200|         2.0|\n",
      "|     F|0-17|        10|            A|                         2|             0|                12|                 0|    1422|         2.0|\n",
      "|     F|0-17|        10|            A|                         2|             0|                12|                14|    1057|         2.0|\n",
      "|     M| 55+|        16|            C|                        4+|             0|                 8|                 0|    7969|         1.0|\n",
      "+------+----+----------+-------------+--------------------------+--------------+------------------+------------------+--------+------------+\n",
      "only showing top 5 rows\n",
      "\n"
     ]
    }
   ],
   "source": [
    "output.show(5)"
   ]
  },
  {
   "cell_type": "code",
   "execution_count": 30,
   "metadata": {},
   "outputs": [],
   "source": [
    "output = output.drop('City_Category')"
   ]
  },
  {
   "cell_type": "code",
   "execution_count": 31,
   "metadata": {},
   "outputs": [
    {
     "name": "stdout",
     "output_type": "stream",
     "text": [
      "+------+----+----------+--------------------------+--------------+------------------+------------------+--------+------------+--------+\n",
      "|Gender| Age|Occupation|Stay_In_Current_City_Years|Marital_Status|Product_Category_1|Product_Category_2|Purchase|CityCategory|ageindex|\n",
      "+------+----+----------+--------------------------+--------------+------------------+------------------+--------+------------+--------+\n",
      "|     F|0-17|        10|                         2|             0|                 3|                 0|    8370|         2.0|     6.0|\n",
      "|     F|0-17|        10|                         2|             0|                 1|                 6|   15200|         2.0|     6.0|\n",
      "|     F|0-17|        10|                         2|             0|                12|                 0|    1422|         2.0|     6.0|\n",
      "|     F|0-17|        10|                         2|             0|                12|                14|    1057|         2.0|     6.0|\n",
      "|     M| 55+|        16|                        4+|             0|                 8|                 0|    7969|         1.0|     5.0|\n",
      "+------+----+----------+--------------------------+--------------+------------------+------------------+--------+------------+--------+\n",
      "only showing top 5 rows\n",
      "\n"
     ]
    }
   ],
   "source": [
    "age_indexer = StringIndexer(inputCol=\"Age\", outputCol=\"ageindex\")\n",
    "output = age_indexer.fit(output).transform(output)\n",
    "output.show(5)"
   ]
  },
  {
   "cell_type": "code",
   "execution_count": 32,
   "metadata": {},
   "outputs": [],
   "source": [
    "output = output.drop('Age')"
   ]
  },
  {
   "cell_type": "code",
   "execution_count": 33,
   "metadata": {},
   "outputs": [
    {
     "name": "stdout",
     "output_type": "stream",
     "text": [
      "+------+----------+--------------------------+--------------+------------------+------------------+--------+------------+--------+-----------+\n",
      "|Gender|Occupation|Stay_In_Current_City_Years|Marital_Status|Product_Category_1|Product_Category_2|Purchase|CityCategory|ageindex|genderindex|\n",
      "+------+----------+--------------------------+--------------+------------------+------------------+--------+------------+--------+-----------+\n",
      "|     F|        10|                         2|             0|                 3|                 0|    8370|         2.0|     6.0|        1.0|\n",
      "|     F|        10|                         2|             0|                 1|                 6|   15200|         2.0|     6.0|        1.0|\n",
      "|     F|        10|                         2|             0|                12|                 0|    1422|         2.0|     6.0|        1.0|\n",
      "|     F|        10|                         2|             0|                12|                14|    1057|         2.0|     6.0|        1.0|\n",
      "|     M|        16|                        4+|             0|                 8|                 0|    7969|         1.0|     5.0|        0.0|\n",
      "+------+----------+--------------------------+--------------+------------------+------------------+--------+------------+--------+-----------+\n",
      "only showing top 5 rows\n",
      "\n"
     ]
    }
   ],
   "source": [
    "gender_indexer = StringIndexer(inputCol=\"Gender\", outputCol=\"genderindex\")\n",
    "output = gender_indexer.fit(output).transform(output)\n",
    "output.show(5)"
   ]
  },
  {
   "cell_type": "code",
   "execution_count": 34,
   "metadata": {},
   "outputs": [],
   "source": [
    "output = output.drop('Gender')"
   ]
  },
  {
   "cell_type": "code",
   "execution_count": 35,
   "metadata": {},
   "outputs": [
    {
     "name": "stdout",
     "output_type": "stream",
     "text": [
      "+----------+--------------------------+--------------+------------------+------------------+--------+------------+--------+-----------+---------+\n",
      "|Occupation|Stay_In_Current_City_Years|Marital_Status|Product_Category_1|Product_Category_2|Purchase|CityCategory|ageindex|genderindex|stayindex|\n",
      "+----------+--------------------------+--------------+------------------+------------------+--------+------------+--------+-----------+---------+\n",
      "|        10|                         2|             0|                 3|                 0|    8370|         2.0|     6.0|        1.0|      1.0|\n",
      "|        10|                         2|             0|                 1|                 6|   15200|         2.0|     6.0|        1.0|      1.0|\n",
      "|        10|                         2|             0|                12|                 0|    1422|         2.0|     6.0|        1.0|      1.0|\n",
      "|        10|                         2|             0|                12|                14|    1057|         2.0|     6.0|        1.0|      1.0|\n",
      "|        16|                        4+|             0|                 8|                 0|    7969|         1.0|     5.0|        0.0|      3.0|\n",
      "|        15|                         3|             0|                 1|                 2|   15227|         2.0|     0.0|        0.0|      2.0|\n",
      "|         7|                         2|             1|                 1|                 8|   19215|         0.0|     3.0|        0.0|      1.0|\n",
      "|         7|                         2|             1|                 1|                15|   15854|         0.0|     3.0|        0.0|      1.0|\n",
      "|         7|                         2|             1|                 1|                16|   15686|         0.0|     3.0|        0.0|      1.0|\n",
      "|        20|                         1|             1|                 8|                 0|    7871|         2.0|     0.0|        0.0|      0.0|\n",
      "+----------+--------------------------+--------------+------------------+------------------+--------+------------+--------+-----------+---------+\n",
      "only showing top 10 rows\n",
      "\n"
     ]
    }
   ],
   "source": [
    "stay_indexer = StringIndexer(inputCol=\"Stay_In_Current_City_Years\", outputCol=\"stayindex\")\n",
    "output = stay_indexer.fit(output).transform(output)\n",
    "output.show(10)"
   ]
  },
  {
   "cell_type": "code",
   "execution_count": 36,
   "metadata": {},
   "outputs": [],
   "source": [
    "output = output.drop('Stay_In_Current_City_Years')"
   ]
  },
  {
   "cell_type": "code",
   "execution_count": 37,
   "metadata": {},
   "outputs": [
    {
     "name": "stdout",
     "output_type": "stream",
     "text": [
      "+----------+--------------+------------------+------------------+--------+------------+--------+-----------+---------+\n",
      "|Occupation|Marital_Status|Product_Category_1|Product_Category_2|Purchase|CityCategory|ageindex|genderindex|stayindex|\n",
      "+----------+--------------+------------------+------------------+--------+------------+--------+-----------+---------+\n",
      "|        10|             0|                 3|                 0|    8370|         2.0|     6.0|        1.0|      1.0|\n",
      "|        10|             0|                 1|                 6|   15200|         2.0|     6.0|        1.0|      1.0|\n",
      "|        10|             0|                12|                 0|    1422|         2.0|     6.0|        1.0|      1.0|\n",
      "|        10|             0|                12|                14|    1057|         2.0|     6.0|        1.0|      1.0|\n",
      "|        16|             0|                 8|                 0|    7969|         1.0|     5.0|        0.0|      3.0|\n",
      "+----------+--------------+------------------+------------------+--------+------------+--------+-----------+---------+\n",
      "only showing top 5 rows\n",
      "\n"
     ]
    }
   ],
   "source": [
    "output.show(5)"
   ]
  },
  {
   "cell_type": "code",
   "execution_count": 38,
   "metadata": {},
   "outputs": [],
   "source": [
    "features = ['Occupation','stayindex','Marital_Status','Product_Category_1','Product_Category_2','CityCategory','ageindex','genderindex']"
   ]
  },
  {
   "cell_type": "code",
   "execution_count": 40,
   "metadata": {},
   "outputs": [
    {
     "name": "stdout",
     "output_type": "stream",
     "text": [
      "root\n",
      " |-- label: integer (nullable = true)\n",
      " |-- Occupation: integer (nullable = true)\n",
      " |-- stayindex: double (nullable = true)\n",
      " |-- Marital_Status: integer (nullable = true)\n",
      " |-- Product_Category_1: integer (nullable = true)\n",
      " |-- Product_Category_2: integer (nullable = true)\n",
      " |-- CityCategory: double (nullable = true)\n",
      " |-- ageindex: double (nullable = true)\n",
      " |-- genderindex: double (nullable = true)\n",
      "\n"
     ]
    }
   ],
   "source": [
    "from pyspark.sql.functions import *\n",
    "lr_data = output.select(col(\"Purchase\").alias(\"label\"), *features)\n",
    "lr_data.printSchema()"
   ]
  },
  {
   "cell_type": "code",
   "execution_count": 41,
   "metadata": {},
   "outputs": [
    {
     "name": "stdout",
     "output_type": "stream",
     "text": [
      "+-----+----------+---------+--------------+------------------+------------------+------------+--------+-----------+\n",
      "|label|Occupation|stayindex|Marital_Status|Product_Category_1|Product_Category_2|CityCategory|ageindex|genderindex|\n",
      "+-----+----------+---------+--------------+------------------+------------------+------------+--------+-----------+\n",
      "| 8370|        10|      1.0|             0|                 3|                 0|         2.0|     6.0|        1.0|\n",
      "|15200|        10|      1.0|             0|                 1|                 6|         2.0|     6.0|        1.0|\n",
      "| 1422|        10|      1.0|             0|                12|                 0|         2.0|     6.0|        1.0|\n",
      "| 1057|        10|      1.0|             0|                12|                14|         2.0|     6.0|        1.0|\n",
      "| 7969|        16|      3.0|             0|                 8|                 0|         1.0|     5.0|        0.0|\n",
      "|15227|        15|      2.0|             0|                 1|                 2|         2.0|     0.0|        0.0|\n",
      "|19215|         7|      1.0|             1|                 1|                 8|         0.0|     3.0|        0.0|\n",
      "|15854|         7|      1.0|             1|                 1|                15|         0.0|     3.0|        0.0|\n",
      "|15686|         7|      1.0|             1|                 1|                16|         0.0|     3.0|        0.0|\n",
      "| 7871|        20|      0.0|             1|                 8|                 0|         2.0|     0.0|        0.0|\n",
      "+-----+----------+---------+--------------+------------------+------------------+------------+--------+-----------+\n",
      "only showing top 10 rows\n",
      "\n"
     ]
    }
   ],
   "source": [
    "lr_data.show(10)"
   ]
  },
  {
   "cell_type": "code",
   "execution_count": 42,
   "metadata": {},
   "outputs": [],
   "source": [
    "from pyspark.ml.regression import LinearRegression\n",
    "from pyspark.ml.feature import VectorAssembler\n",
    "from pyspark.ml.feature import StandardScaler\n",
    "from pyspark.ml import Pipeline\n",
    "from pyspark.sql.functions import *"
   ]
  },
  {
   "cell_type": "code",
   "execution_count": 43,
   "metadata": {},
   "outputs": [],
   "source": [
    "vectorAssembler = VectorAssembler(inputCols=features, outputCol=\"unscaled_features\")"
   ]
  },
  {
   "cell_type": "code",
   "execution_count": 44,
   "metadata": {},
   "outputs": [],
   "source": [
    "va_data = vectorAssembler.transform(lr_data)"
   ]
  },
  {
   "cell_type": "code",
   "execution_count": 45,
   "metadata": {},
   "outputs": [
    {
     "name": "stdout",
     "output_type": "stream",
     "text": [
      "+-----+----------+---------+--------------+------------------+------------------+------------+--------+-----------+------------------------------------+\n",
      "|label|Occupation|stayindex|Marital_Status|Product_Category_1|Product_Category_2|CityCategory|ageindex|genderindex|unscaled_features                   |\n",
      "+-----+----------+---------+--------------+------------------+------------------+------------+--------+-----------+------------------------------------+\n",
      "|8370 |10        |1.0      |0             |3                 |0                 |2.0         |6.0     |1.0        |[10.0,1.0,0.0,3.0,0.0,2.0,6.0,1.0]  |\n",
      "|15200|10        |1.0      |0             |1                 |6                 |2.0         |6.0     |1.0        |[10.0,1.0,0.0,1.0,6.0,2.0,6.0,1.0]  |\n",
      "|1422 |10        |1.0      |0             |12                |0                 |2.0         |6.0     |1.0        |[10.0,1.0,0.0,12.0,0.0,2.0,6.0,1.0] |\n",
      "|1057 |10        |1.0      |0             |12                |14                |2.0         |6.0     |1.0        |[10.0,1.0,0.0,12.0,14.0,2.0,6.0,1.0]|\n",
      "|7969 |16        |3.0      |0             |8                 |0                 |1.0         |5.0     |0.0        |[16.0,3.0,0.0,8.0,0.0,1.0,5.0,0.0]  |\n",
      "|15227|15        |2.0      |0             |1                 |2                 |2.0         |0.0     |0.0        |[15.0,2.0,0.0,1.0,2.0,2.0,0.0,0.0]  |\n",
      "|19215|7         |1.0      |1             |1                 |8                 |0.0         |3.0     |0.0        |[7.0,1.0,1.0,1.0,8.0,0.0,3.0,0.0]   |\n",
      "|15854|7         |1.0      |1             |1                 |15                |0.0         |3.0     |0.0        |[7.0,1.0,1.0,1.0,15.0,0.0,3.0,0.0]  |\n",
      "|15686|7         |1.0      |1             |1                 |16                |0.0         |3.0     |0.0        |[7.0,1.0,1.0,1.0,16.0,0.0,3.0,0.0]  |\n",
      "|7871 |20        |0.0      |1             |8                 |0                 |2.0         |0.0     |0.0        |(8,[0,2,3,5],[20.0,1.0,8.0,2.0])    |\n",
      "|5254 |20        |0.0      |1             |5                 |11                |2.0         |0.0     |0.0        |[20.0,0.0,1.0,5.0,11.0,2.0,0.0,0.0] |\n",
      "|3957 |20        |0.0      |1             |8                 |0                 |2.0         |0.0     |0.0        |(8,[0,2,3,5],[20.0,1.0,8.0,2.0])    |\n",
      "|6073 |20        |0.0      |1             |8                 |0                 |2.0         |0.0     |0.0        |(8,[0,2,3,5],[20.0,1.0,8.0,2.0])    |\n",
      "|15665|20        |0.0      |1             |1                 |2                 |2.0         |0.0     |0.0        |[20.0,0.0,1.0,1.0,2.0,2.0,0.0,0.0]  |\n",
      "|5378 |9         |0.0      |0             |5                 |8                 |2.0         |4.0     |1.0        |[9.0,0.0,0.0,5.0,8.0,2.0,4.0,1.0]   |\n",
      "|2079 |9         |0.0      |0             |4                 |5                 |2.0         |4.0     |1.0        |[9.0,0.0,0.0,4.0,5.0,2.0,4.0,1.0]   |\n",
      "|13055|9         |0.0      |0             |2                 |3                 |2.0         |4.0     |1.0        |[9.0,0.0,0.0,2.0,3.0,2.0,4.0,1.0]   |\n",
      "|8851 |9         |0.0      |0             |5                 |14                |2.0         |4.0     |1.0        |[9.0,0.0,0.0,5.0,14.0,2.0,4.0,1.0]  |\n",
      "|11788|1         |0.0      |1             |1                 |14                |0.0         |1.0     |0.0        |[1.0,0.0,1.0,1.0,14.0,0.0,1.0,0.0]  |\n",
      "|19614|12        |3.0      |1             |1                 |5                 |1.0         |0.0     |0.0        |[12.0,3.0,1.0,1.0,5.0,1.0,0.0,0.0]  |\n",
      "+-----+----------+---------+--------------+------------------+------------------+------------+--------+-----------+------------------------------------+\n",
      "only showing top 20 rows\n",
      "\n"
     ]
    }
   ],
   "source": [
    "va_data.show(truncate=False)"
   ]
  },
  {
   "cell_type": "code",
   "execution_count": 46,
   "metadata": {},
   "outputs": [],
   "source": [
    "standardScaler = StandardScaler(inputCol=\"unscaled_features\", outputCol=\"features\")"
   ]
  },
  {
   "cell_type": "code",
   "execution_count": 47,
   "metadata": {},
   "outputs": [],
   "source": [
    "ss_model = standardScaler.fit(va_data)"
   ]
  },
  {
   "cell_type": "code",
   "execution_count": 48,
   "metadata": {},
   "outputs": [],
   "source": [
    "ss_data = ss_model.transform(va_data)"
   ]
  },
  {
   "cell_type": "code",
   "execution_count": 49,
   "metadata": {},
   "outputs": [
    {
     "name": "stdout",
     "output_type": "stream",
     "text": [
      "+-----+----------+---------+--------------+------------------+------------------+------------+--------+-----------+------------------------------------+---------------------------------------------------------------------------------------------------------------------------------------+\n",
      "|label|Occupation|stayindex|Marital_Status|Product_Category_1|Product_Category_2|CityCategory|ageindex|genderindex|unscaled_features                   |features                                                                                                                               |\n",
      "+-----+----------+---------+--------------+------------------+------------------+------------+--------+-----------+------------------------------------+---------------------------------------------------------------------------------------------------------------------------------------+\n",
      "|8370 |10        |1.0      |0             |3                 |0                 |2.0         |6.0     |1.0        |[10.0,1.0,0.0,3.0,0.0,2.0,6.0,1.0]  |[1.5331167426859607,0.6945301455282605,0.0,0.7621541931089728,0.0,2.451092147365374,3.685480084896692,2.31908001899471]                |\n",
      "|15200|10        |1.0      |0             |1                 |6                 |2.0         |6.0     |1.0        |[10.0,1.0,0.0,1.0,6.0,2.0,6.0,1.0]  |[1.5331167426859607,0.6945301455282605,0.0,0.25405139770299096,0.9653299297344281,2.451092147365374,3.685480084896692,2.31908001899471]|\n",
      "|1422 |10        |1.0      |0             |12                |0                 |2.0         |6.0     |1.0        |[10.0,1.0,0.0,12.0,0.0,2.0,6.0,1.0] |[1.5331167426859607,0.6945301455282605,0.0,3.0486167724358912,0.0,2.451092147365374,3.685480084896692,2.31908001899471]                |\n",
      "|1057 |10        |1.0      |0             |12                |14                |2.0         |6.0     |1.0        |[10.0,1.0,0.0,12.0,14.0,2.0,6.0,1.0]|[1.5331167426859607,0.6945301455282605,0.0,3.0486167724358912,2.2524365027136657,2.451092147365374,3.685480084896692,2.31908001899471] |\n",
      "|7969 |16        |3.0      |0             |8                 |0                 |1.0         |5.0     |0.0        |[16.0,3.0,0.0,8.0,0.0,1.0,5.0,0.0]  |[2.452986788297537,2.0835904365847817,0.0,2.0324111816239276,0.0,1.225546073682687,3.0712334040805764,0.0]                             |\n",
      "|15227|15        |2.0      |0             |1                 |2                 |2.0         |0.0     |0.0        |[15.0,2.0,0.0,1.0,2.0,2.0,0.0,0.0]  |[2.299675114028941,1.389060291056521,0.0,0.25405139770299096,0.32177664324480937,2.451092147365374,0.0,0.0]                            |\n",
      "|19215|7         |1.0      |1             |1                 |8                 |0.0         |3.0     |0.0        |[7.0,1.0,1.0,1.0,8.0,0.0,3.0,0.0]   |[1.0731817198801725,0.6945301455282605,2.0334704092104996,0.25405139770299096,1.2871065729792375,0.0,1.842740042448346,0.0]            |\n",
      "|15854|7         |1.0      |1             |1                 |15                |0.0         |3.0     |0.0        |[7.0,1.0,1.0,1.0,15.0,0.0,3.0,0.0]  |[1.0731817198801725,0.6945301455282605,2.0334704092104996,0.25405139770299096,2.4133248243360703,0.0,1.842740042448346,0.0]            |\n",
      "|15686|7         |1.0      |1             |1                 |16                |0.0         |3.0     |0.0        |[7.0,1.0,1.0,1.0,16.0,0.0,3.0,0.0]  |[1.0731817198801725,0.6945301455282605,2.0334704092104996,0.25405139770299096,2.574213145958475,0.0,1.842740042448346,0.0]             |\n",
      "|7871 |20        |0.0      |1             |8                 |0                 |2.0         |0.0     |0.0        |(8,[0,2,3,5],[20.0,1.0,8.0,2.0])    |(8,[0,2,3,5],[3.0662334853719213,2.0334704092104996,2.0324111816239276,2.451092147365374])                                             |\n",
      "|5254 |20        |0.0      |1             |5                 |11                |2.0         |0.0     |0.0        |[20.0,0.0,1.0,5.0,11.0,2.0,0.0,0.0] |[3.0662334853719213,0.0,2.0334704092104996,1.2702569885149548,1.7697715378464516,2.451092147365374,0.0,0.0]                            |\n",
      "|3957 |20        |0.0      |1             |8                 |0                 |2.0         |0.0     |0.0        |(8,[0,2,3,5],[20.0,1.0,8.0,2.0])    |(8,[0,2,3,5],[3.0662334853719213,2.0334704092104996,2.0324111816239276,2.451092147365374])                                             |\n",
      "|6073 |20        |0.0      |1             |8                 |0                 |2.0         |0.0     |0.0        |(8,[0,2,3,5],[20.0,1.0,8.0,2.0])    |(8,[0,2,3,5],[3.0662334853719213,2.0334704092104996,2.0324111816239276,2.451092147365374])                                             |\n",
      "|15665|20        |0.0      |1             |1                 |2                 |2.0         |0.0     |0.0        |[20.0,0.0,1.0,1.0,2.0,2.0,0.0,0.0]  |[3.0662334853719213,0.0,2.0334704092104996,0.25405139770299096,0.32177664324480937,2.451092147365374,0.0,0.0]                          |\n",
      "|5378 |9         |0.0      |0             |5                 |8                 |2.0         |4.0     |1.0        |[9.0,0.0,0.0,5.0,8.0,2.0,4.0,1.0]   |[1.3798050684173646,0.0,0.0,1.2702569885149548,1.2871065729792375,2.451092147365374,2.4569867232644613,2.31908001899471]               |\n",
      "|2079 |9         |0.0      |0             |4                 |5                 |2.0         |4.0     |1.0        |[9.0,0.0,0.0,4.0,5.0,2.0,4.0,1.0]   |[1.3798050684173646,0.0,0.0,1.0162055908119638,0.8044416081120234,2.451092147365374,2.4569867232644613,2.31908001899471]               |\n",
      "|13055|9         |0.0      |0             |2                 |3                 |2.0         |4.0     |1.0        |[9.0,0.0,0.0,2.0,3.0,2.0,4.0,1.0]   |[1.3798050684173646,0.0,0.0,0.5081027954059819,0.48266496486721405,2.451092147365374,2.4569867232644613,2.31908001899471]              |\n",
      "|8851 |9         |0.0      |0             |5                 |14                |2.0         |4.0     |1.0        |[9.0,0.0,0.0,5.0,14.0,2.0,4.0,1.0]  |[1.3798050684173646,0.0,0.0,1.2702569885149548,2.2524365027136657,2.451092147365374,2.4569867232644613,2.31908001899471]               |\n",
      "|11788|1         |0.0      |1             |1                 |14                |0.0         |1.0     |0.0        |[1.0,0.0,1.0,1.0,14.0,0.0,1.0,0.0]  |[0.15331167426859607,0.0,2.0334704092104996,0.25405139770299096,2.2524365027136657,0.0,0.6142466808161153,0.0]                         |\n",
      "|19614|12        |3.0      |1             |1                 |5                 |1.0         |0.0     |0.0        |[12.0,3.0,1.0,1.0,5.0,1.0,0.0,0.0]  |[1.839740091223153,2.0835904365847817,2.0334704092104996,0.25405139770299096,0.8044416081120234,1.225546073682687,0.0,0.0]             |\n",
      "+-----+----------+---------+--------------+------------------+------------------+------------+--------+-----------+------------------------------------+---------------------------------------------------------------------------------------------------------------------------------------+\n",
      "only showing top 20 rows\n",
      "\n"
     ]
    }
   ],
   "source": [
    "ss_data.show(truncate=False)"
   ]
  },
  {
   "cell_type": "markdown",
   "metadata": {},
   "source": [
    "## Splitting tranning and testing data"
   ]
  },
  {
   "cell_type": "code",
   "execution_count": 50,
   "metadata": {},
   "outputs": [
    {
     "name": "stdout",
     "output_type": "stream",
     "text": [
      "+-------+-----------------+-----------------+------------------+------------------+------------------+------------------+------------------+------------------+-------------------+\n",
      "|summary|            label|       Occupation|         stayindex|    Marital_Status|Product_Category_1|Product_Category_2|      CityCategory|          ageindex|        genderindex|\n",
      "+-------+-----------------+-----------------+------------------+------------------+------------------+------------------+------------------+------------------+-------------------+\n",
      "|  count|           385050|           385050|            385050|            385050|            385050|            385050|            385050|            385050|             385050|\n",
      "|   mean|  9265.2289105311|8.076351123230749|1.5336605635631737|0.4097545773276198| 5.405396701727049|  6.74067523698221|0.8483080119465004|1.4545072068562523|0.24691338787170497|\n",
      "| stddev|5024.740284033693|6.520155213782972|1.4398959501717996| 0.491788970803052| 3.933548749092217| 6.215729421963342|0.8159516785887363| 1.628928088160572| 0.4312164765864277|\n",
      "|    min|               12|                0|               0.0|                 0|                 1|                 0|               0.0|               0.0|                0.0|\n",
      "|    max|            23961|               20|               4.0|                 1|                20|                18|               2.0|               6.0|                1.0|\n",
      "+-------+-----------------+-----------------+------------------+------------------+------------------+------------------+------------------+------------------+-------------------+\n",
      "\n"
     ]
    }
   ],
   "source": [
    "(training, test) = ss_data.randomSplit([.7, .3])\n",
    "training.describe().show()"
   ]
  },
  {
   "cell_type": "code",
   "execution_count": 51,
   "metadata": {},
   "outputs": [
    {
     "name": "stdout",
     "output_type": "stream",
     "text": [
      "+-------+-----------------+-----------------+------------------+------------------+------------------+------------------+------------------+------------------+-------------------+\n",
      "|summary|            label|       Occupation|         stayindex|    Marital_Status|Product_Category_1|Product_Category_2|      CityCategory|          ageindex|        genderindex|\n",
      "+-------+-----------------+-----------------+------------------+------------------+------------------+------------------+------------------+------------------+-------------------+\n",
      "|  count|           165018|           165018|            165018|            165018|            165018|            165018|            165018|            165018|             165018|\n",
      "|   mean|9261.028190864026|8.077536995964076| 1.537056563526403|0.4094159425032421|  5.40164103309942|  6.72321201323492|0.8482347380285787|1.4453817159340194|0.24685185858512404|\n",
      "| stddev|5019.169049452351|6.528522198968895|1.4396520306606073|0.4917275605432764|3.9424279621467346| 6.214938053261299| 0.815991204168348|1.6258541579383285|0.43118110481080346|\n",
      "|    min|               12|                0|               0.0|                 0|                 1|                 0|               0.0|               0.0|                0.0|\n",
      "|    max|            23961|               20|               4.0|                 1|                20|                18|               2.0|               6.0|                1.0|\n",
      "+-------+-----------------+-----------------+------------------+------------------+------------------+------------------+------------------+------------------+-------------------+\n",
      "\n"
     ]
    }
   ],
   "source": [
    "test.describe().show()"
   ]
  },
  {
   "cell_type": "markdown",
   "metadata": {},
   "source": [
    "## LinearRegression"
   ]
  },
  {
   "cell_type": "code",
   "execution_count": 53,
   "metadata": {},
   "outputs": [],
   "source": [
    "lr = LinearRegression(maxIter=10, regParam=.01)\n",
    "lr_model = lr.fit(training)"
   ]
  },
  {
   "cell_type": "code",
   "execution_count": 54,
   "metadata": {},
   "outputs": [
    {
     "data": {
      "text/plain": [
       "DenseVector([62.7314, -15.0926, 28.4164, -1707.9995, 141.8912, -32.3229, 53.789, -219.5719])"
      ]
     },
     "execution_count": 54,
     "metadata": {},
     "output_type": "execute_result"
    }
   ],
   "source": [
    "lr_model.coefficients"
   ]
  },
  {
   "cell_type": "code",
   "execution_count": 55,
   "metadata": {},
   "outputs": [
    {
     "data": {
      "text/plain": [
       "11482.858598621868"
      ]
     },
     "execution_count": 55,
     "metadata": {},
     "output_type": "execute_result"
    }
   ],
   "source": [
    "lr_model.intercept"
   ]
  },
  {
   "cell_type": "code",
   "execution_count": 56,
   "metadata": {},
   "outputs": [
    {
     "data": {
      "text/plain": [
       "4710.652264556437"
      ]
     },
     "execution_count": 56,
     "metadata": {},
     "output_type": "execute_result"
    }
   ],
   "source": [
    "trainingSummary = lr_model.summary\n",
    "trainingSummary.rootMeanSquaredError"
   ]
  },
  {
   "cell_type": "code",
   "execution_count": 57,
   "metadata": {},
   "outputs": [
    {
     "data": {
      "text/plain": [
       "0.12110704719571241"
      ]
     },
     "execution_count": 57,
     "metadata": {},
     "output_type": "execute_result"
    }
   ],
   "source": [
    "trainingSummary.r2"
   ]
  },
  {
   "cell_type": "code",
   "execution_count": 58,
   "metadata": {},
   "outputs": [],
   "source": [
    "prediction_df = lr_model.transform(test)"
   ]
  },
  {
   "cell_type": "code",
   "execution_count": 59,
   "metadata": {},
   "outputs": [
    {
     "name": "stdout",
     "output_type": "stream",
     "text": [
      "+-----+------------------+\n",
      "|label|prediction        |\n",
      "+-----+------------------+\n",
      "|12   |2796.8525794167836|\n",
      "|12   |3167.324908081482 |\n",
      "|12   |3282.4280975365964|\n",
      "|12   |3305.7863193030125|\n",
      "|12   |3288.7305657124907|\n",
      "|12   |3333.845475943621 |\n",
      "|12   |3303.3210655681987|\n",
      "|12   |3332.4519936284423|\n",
      "|12   |3261.3919429848247|\n",
      "|12   |2716.689749105273 |\n",
      "|12   |3368.4065122688226|\n",
      "|12   |3275.1251634729633|\n",
      "|12   |3365.2131843493826|\n",
      "|12   |3485.1677477423555|\n",
      "|12   |2963.015468706686 |\n",
      "|12   |3461.7379327158533|\n",
      "|12   |3337.6035568529333|\n",
      "|12   |3326.2564565678367|\n",
      "|12   |3373.5580754933126|\n",
      "|12   |3424.239839444028 |\n",
      "+-----+------------------+\n",
      "only showing top 20 rows\n",
      "\n"
     ]
    }
   ],
   "source": [
    "prediction_df.select(\"label\",\"prediction\").show(truncate=False)"
   ]
  },
  {
   "cell_type": "code",
   "execution_count": 60,
   "metadata": {},
   "outputs": [],
   "source": [
    "from pyspark.ml.evaluation import RegressionEvaluator\n",
    "eval = RegressionEvaluator(labelCol=\"label\", predictionCol=\"prediction\", metricName=\"rmse\")"
   ]
  },
  {
   "cell_type": "code",
   "execution_count": 61,
   "metadata": {
    "scrolled": true
   },
   "outputs": [
    {
     "name": "stdout",
     "output_type": "stream",
     "text": [
      "RMSE: 4703.250\n",
      "r2: 0.122\n",
      "MSE: 22120561.809\n",
      "MAE: 3601.879\n"
     ]
    }
   ],
   "source": [
    "rmse = eval.evaluate(prediction_df)\n",
    "print(\"RMSE: %.3f\" % rmse)\n",
    "r2 = eval.evaluate(prediction_df, {eval.metricName: \"r2\"})\n",
    "print(\"r2: %.3f\" %r2)\n",
    "mse = eval.evaluate(prediction_df, {eval.metricName: \"mse\"})\n",
    "print(\"MSE: %.3f\" % mse)\n",
    "mae = eval.evaluate(prediction_df, {eval.metricName: \"mae\"})\n",
    "print(\"MAE: %.3f\" % mae)"
   ]
  },
  {
   "cell_type": "markdown",
   "metadata": {},
   "source": [
    "## DecisionTreeRegressor"
   ]
  },
  {
   "cell_type": "code",
   "execution_count": 62,
   "metadata": {},
   "outputs": [],
   "source": [
    "from pyspark.ml.regression import DecisionTreeRegressor"
   ]
  },
  {
   "cell_type": "code",
   "execution_count": 66,
   "metadata": {},
   "outputs": [],
   "source": [
    "dtr = DecisionTreeRegressor(maxDepth=15)"
   ]
  },
  {
   "cell_type": "code",
   "execution_count": 68,
   "metadata": {},
   "outputs": [],
   "source": [
    "dtr_model = dtr.fit(training)"
   ]
  },
  {
   "cell_type": "code",
   "execution_count": 70,
   "metadata": {},
   "outputs": [],
   "source": [
    "prediction_dtr = dtr_model.transform(test)"
   ]
  },
  {
   "cell_type": "code",
   "execution_count": 72,
   "metadata": {},
   "outputs": [
    {
     "name": "stdout",
     "output_type": "stream",
     "text": [
      "RMSE: 3019.575\n",
      "r2: 0.638\n",
      "MSE: 9117831.837\n",
      "MAE: 2233.796\n"
     ]
    }
   ],
   "source": [
    "rmse = eval.evaluate(prediction_dtr)\n",
    "print(\"RMSE: %.3f\" % rmse)\n",
    "r2 = eval.evaluate(prediction_dtr, {eval.metricName: \"r2\"})\n",
    "print(\"r2: %.3f\" %r2)\n",
    "mse = eval.evaluate(prediction_dtr, {eval.metricName: \"mse\"})\n",
    "print(\"MSE: %.3f\" % mse)\n",
    "mae = eval.evaluate(prediction_dtr, {eval.metricName: \"mae\"})\n",
    "print(\"MAE: %.3f\" % mae)"
   ]
  },
  {
   "cell_type": "markdown",
   "metadata": {},
   "source": [
    "## RandomForestRegressor"
   ]
  },
  {
   "cell_type": "code",
   "execution_count": 73,
   "metadata": {},
   "outputs": [],
   "source": [
    "from pyspark.ml.regression import RandomForestRegressor"
   ]
  },
  {
   "cell_type": "code",
   "execution_count": 74,
   "metadata": {},
   "outputs": [],
   "source": [
    "rfr = RandomForestRegressor(maxDepth=15)"
   ]
  },
  {
   "cell_type": "code",
   "execution_count": 75,
   "metadata": {},
   "outputs": [],
   "source": [
    "rfr_model = rfr.fit(training)"
   ]
  },
  {
   "cell_type": "code",
   "execution_count": 76,
   "metadata": {},
   "outputs": [],
   "source": [
    "prediction_rfr = rfr_model.transform(test)"
   ]
  },
  {
   "cell_type": "code",
   "execution_count": 77,
   "metadata": {},
   "outputs": [
    {
     "name": "stdout",
     "output_type": "stream",
     "text": [
      "RMSE: 3001.737\n",
      "r2: 0.642\n",
      "MSE: 9010423.574\n",
      "MAE: 2268.147\n"
     ]
    }
   ],
   "source": [
    "rmse = eval.evaluate(prediction_rfr)\n",
    "print(\"RMSE: %.3f\" % rmse)\n",
    "r2 = eval.evaluate(prediction_rfr, {eval.metricName: \"r2\"})\n",
    "print(\"r2: %.3f\" %r2)\n",
    "mse = eval.evaluate(prediction_rfr, {eval.metricName: \"mse\"})\n",
    "print(\"MSE: %.3f\" % mse)\n",
    "mae = eval.evaluate(prediction_rfr, {eval.metricName: \"mae\"})\n",
    "print(\"MAE: %.3f\" % mae)"
   ]
  },
  {
   "cell_type": "markdown",
   "metadata": {},
   "source": [
    "## Gradient-boosted tree regression"
   ]
  },
  {
   "cell_type": "code",
   "execution_count": 78,
   "metadata": {},
   "outputs": [],
   "source": [
    "from pyspark.ml.regression import GBTRegressor"
   ]
  },
  {
   "cell_type": "code",
   "execution_count": 79,
   "metadata": {},
   "outputs": [],
   "source": [
    "gbt = GBTRegressor(maxIter=10)"
   ]
  },
  {
   "cell_type": "code",
   "execution_count": 80,
   "metadata": {},
   "outputs": [],
   "source": [
    "gbt_model = gbt.fit(training)"
   ]
  },
  {
   "cell_type": "code",
   "execution_count": 81,
   "metadata": {},
   "outputs": [],
   "source": [
    "prediction_gbt = gbt_model.transform(test)"
   ]
  },
  {
   "cell_type": "code",
   "execution_count": 82,
   "metadata": {},
   "outputs": [
    {
     "name": "stdout",
     "output_type": "stream",
     "text": [
      "RMSE: 3003.840\n",
      "r2: 0.642\n",
      "MSE: 9023057.483\n",
      "MAE: 2282.940\n"
     ]
    }
   ],
   "source": [
    "rmse = eval.evaluate(prediction_gbt)\n",
    "print(\"RMSE: %.3f\" % rmse)\n",
    "r2 = eval.evaluate(prediction_gbt, {eval.metricName: \"r2\"})\n",
    "print(\"r2: %.3f\" %r2)\n",
    "mse = eval.evaluate(prediction_gbt, {eval.metricName: \"mse\"})\n",
    "print(\"MSE: %.3f\" % mse)\n",
    "mae = eval.evaluate(prediction_gbt, {eval.metricName: \"mae\"})\n",
    "print(\"MAE: %.3f\" % mae)"
   ]
  },
  {
   "cell_type": "code",
   "execution_count": null,
   "metadata": {},
   "outputs": [],
   "source": []
  },
  {
   "cell_type": "code",
   "execution_count": null,
   "metadata": {},
   "outputs": [],
   "source": []
  }
 ],
 "metadata": {
  "kernelspec": {
   "display_name": "Python 3",
   "language": "python",
   "name": "python3"
  },
  "language_info": {
   "codemirror_mode": {
    "name": "ipython",
    "version": 3
   },
   "file_extension": ".py",
   "mimetype": "text/x-python",
   "name": "python",
   "nbconvert_exporter": "python",
   "pygments_lexer": "ipython3",
   "version": "3.8.8"
  }
 },
 "nbformat": 4,
 "nbformat_minor": 2
}
